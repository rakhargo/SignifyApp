{
  "nbformat": 4,
  "nbformat_minor": 0,
  "metadata": {
    "colab": {
      "provenance": [],
      "gpuType": "T4"
    },
    "kernelspec": {
      "name": "python3",
      "display_name": "Python 3"
    },
    "language_info": {
      "name": "python"
    },
    "accelerator": "GPU"
  },
  "cells": [
    {
      "cell_type": "markdown",
      "source": [
        "Library"
      ],
      "metadata": {
        "id": "ImaHLjFKa76S"
      }
    },
    {
      "cell_type": "code",
      "execution_count": 1,
      "metadata": {
        "id": "83-jqCnaMDDo"
      },
      "outputs": [],
      "source": [
        "import cv2\n",
        "import os\n",
        "import numpy as np\n",
        "import tensorflow as tf\n",
        "from tensorflow.keras import layers, models\n",
        "from tensorflow.keras.applications import EfficientNetB0\n",
        "from tensorflow.keras.preprocessing import image_dataset_from_directory\n",
        "\n",
        "# Path ke dataset\n",
        "dataset_path = '/content/drive/MyDrive/Colab Notebooks/dataSIBI'"
      ]
    },
    {
      "cell_type": "markdown",
      "source": [
        "Tuning"
      ],
      "metadata": {
        "id": "KspBcWxSbJ81"
      }
    },
    {
      "cell_type": "code",
      "source": [
        "# Fungsi untuk mengekstrak frame dari video dan menyimpannya sebagai gambar\n",
        "def extract_frames(video_path, output_folder, max_frames=30):\n",
        "    cap = cv2.VideoCapture(video_path)\n",
        "    frame_count = 0\n",
        "    frame_list = []\n",
        "\n",
        "    while cap.isOpened() and frame_count < max_frames:\n",
        "        ret, frame = cap.read()\n",
        "        if not ret:\n",
        "            break\n",
        "        # Resize frame agar sesuai dengan input model\n",
        "        frame = cv2.resize(frame, (224, 224))\n",
        "        frame = cv2.cvtColor(frame, cv2.COLOR_BGR2RGB)  # Ubah dari BGR ke RGB\n",
        "        frame_list.append(frame)\n",
        "        frame_count += 1\n",
        "\n",
        "    cap.release()\n",
        "    return frame_list\n",
        "\n",
        "# Proses setiap folder di dalam dataset\n",
        "frames = []\n",
        "labels = []\n",
        "label_map = {}  # Menyimpan mapping label ke indeks\n",
        "\n",
        "label_index = 0\n",
        "for folder in os.listdir(dataset_path):\n",
        "    folder_path = os.path.join(dataset_path, folder)\n",
        "    if os.path.isdir(folder_path):\n",
        "        # Tambahkan label ke mapping jika belum ada\n",
        "        if folder not in label_map:\n",
        "            label_map[folder] = label_index\n",
        "            label_index += 1\n",
        "\n",
        "        # Proses video dalam folder\n",
        "        for video_file in os.listdir(folder_path):\n",
        "            if video_file.endswith('.webm'):\n",
        "                video_path = os.path.join(folder_path, video_file)\n",
        "                video_frames = extract_frames(video_path, folder_path)\n",
        "                frames.extend(video_frames)\n",
        "                labels.extend([label_map[folder]] * len(video_frames))\n",
        "\n",
        "# Konversi frames dan labels ke array numpy\n",
        "frames = np.array(frames)\n",
        "labels = np.array(labels)\n",
        "\n",
        "# Normalisasi data\n",
        "frames = frames / 255.0  # Normalisasi nilai pixel ke [0, 1]\n",
        "\n",
        "# Membagi data menjadi training set\n",
        "train_dataset = tf.data.Dataset.from_tensor_slices((frames, labels))\n",
        "train_dataset = train_dataset.shuffle(buffer_size=1000).batch(32).prefetch(buffer_size=tf.data.AUTOTUNE)\n",
        "\n",
        "# Buat model menggunakan pre-trained EfficientNetB0\n",
        "base_model = EfficientNetB0(weights='imagenet', input_shape=(224, 224, 3), include_top=False)\n",
        "base_model.trainable = False\n",
        "\n",
        "model = models.Sequential([\n",
        "    base_model,\n",
        "    layers.GlobalAveragePooling2D(),\n",
        "    layers.Dropout(0.5),\n",
        "    layers.Dense(128, activation='relu'),\n",
        "    layers.Dense(len(label_map), activation='softmax')  # Jumlah kelas\n",
        "])\n",
        "\n",
        "# Kompilasi model\n",
        "model.compile(optimizer=tf.keras.optimizers.Adam(learning_rate=0.0001),\n",
        "              loss='sparse_categorical_crossentropy',\n",
        "              metrics=['accuracy'])"
      ],
      "metadata": {
        "id": "dwVoJ9M5XSeE"
      },
      "execution_count": null,
      "outputs": []
    },
    {
      "cell_type": "markdown",
      "source": [
        "Training"
      ],
      "metadata": {
        "id": "1FO6cdrMbMY8"
      }
    },
    {
      "cell_type": "code",
      "source": [
        "# Melatih model\n",
        "history = model.fit(\n",
        "    train_dataset,\n",
        "    epochs=10  # Sesuaikan jumlah epoch sesuai kebutuhan\n",
        ")\n"
      ],
      "metadata": {
        "id": "7xqn5UriXQGD"
      },
      "execution_count": null,
      "outputs": []
    },
    {
      "cell_type": "code",
      "source": [
        "model.save('/content/drive/MyDrive/Colab Notebooks/trained_model.h5')"
      ],
      "metadata": {
        "id": "ntCYTqXQcOMF"
      },
      "execution_count": null,
      "outputs": []
    },
    {
      "cell_type": "markdown",
      "source": [
        "Implementasi"
      ],
      "metadata": {
        "id": "kSvJ3sBRbSDL"
      }
    },
    {
      "cell_type": "code",
      "source": [
        "# Load model TensorFlow (sudah dilatih sebelumnya)\n",
        "model = tf.keras.models.load_model('/content/drive/MyDrive/Colab Notebooks/trained_model.h5')  # Path yang benar\n",
        "\n",
        "# Fungsi untuk memproses frame dan membuat prediksi\n",
        "def predict_hand_gesture(frame):\n",
        "    frame_resized = cv2.resize(frame, (224, 224))\n",
        "    frame_normalized = frame_resized / 255.0\n",
        "    frame_expanded = np.expand_dims(frame_normalized, axis=0)\n",
        "    prediction = model.predict(frame_expanded)\n",
        "    class_index = np.argmax(prediction)\n",
        "    return class_index, prediction[0][class_index]\n",
        "\n",
        "# Inisialisasi webcam\n",
        "cap = cv2.VideoCapture(0)\n",
        "recording = False\n",
        "\n",
        "while True:\n",
        "    ret, frame = cap.read()\n",
        "    if not ret:\n",
        "        break\n",
        "\n",
        "    frame_rgb = cv2.cvtColor(frame, cv2.COLOR_BGR2RGB)\n",
        "\n",
        "    if recording:\n",
        "        class_index, confidence = predict_hand_gesture(frame_rgb)\n",
        "        label = f\"{class_labels[class_index]}: {confidence:.2f}\"\n",
        "        cv2.putText(frame, label, (10, 30), cv2.FONT_HERSHEY_SIMPLEX, 1, (0, 255, 0), 2)\n",
        "\n",
        "    cv2.imshow('Hand Gesture Recognition', frame)\n",
        "\n",
        "    key = cv2.waitKey(1) & 0xFF\n",
        "    if key == ord('s'):  # Tekan 's' untuk mulai merekam\n",
        "        recording = True\n",
        "        print(\"Recording started...\")\n",
        "\n",
        "    elif key == ord('q'):  # Tekan 'q' untuk keluar\n",
        "        break\n",
        "\n",
        "cap.release()\n",
        "cv2.destroyAllWindows()"
      ],
      "metadata": {
        "id": "LrCPF2vNZ-iH"
      },
      "execution_count": null,
      "outputs": []
    },
    {
      "cell_type": "code",
      "source": [
        "from google.colab import drive\n",
        "drive.mount('/content/drive')"
      ],
      "metadata": {
        "colab": {
          "base_uri": "https://localhost:8080/"
        },
        "id": "T4tOcY88aGEX",
        "outputId": "9aa3f3c4-b03f-4925-bb96-bf3bf6477cf7"
      },
      "execution_count": null,
      "outputs": [
        {
          "output_type": "stream",
          "name": "stdout",
          "text": [
            "Mounted at /content/drive\n"
          ]
        }
      ]
    }
  ]
}